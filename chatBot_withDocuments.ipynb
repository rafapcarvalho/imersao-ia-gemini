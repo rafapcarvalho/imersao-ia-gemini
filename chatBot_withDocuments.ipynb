{
  "nbformat": 4,
  "nbformat_minor": 0,
  "metadata": {
    "colab": {
      "provenance": [],
      "authorship_tag": "ABX9TyO6Alynha1Uu7PLwJJcZbFe",
      "include_colab_link": true
    },
    "kernelspec": {
      "name": "python3",
      "display_name": "Python 3"
    },
    "language_info": {
      "name": "python"
    }
  },
  "cells": [
    {
      "cell_type": "markdown",
      "metadata": {
        "id": "view-in-github",
        "colab_type": "text"
      },
      "source": [
        "<a href=\"https://colab.research.google.com/github/rafapcarvalho/imersao-ia-gemini/blob/main/chatBot_withDocuments.ipynb\" target=\"_parent\"><img src=\"https://colab.research.google.com/assets/colab-badge.svg\" alt=\"Open In Colab\"/></a>"
      ]
    },
    {
      "cell_type": "markdown",
      "source": [
        "Instalar google-generativeai"
      ],
      "metadata": {
        "id": "_B80u3-Be-Gi"
      }
    },
    {
      "cell_type": "code",
      "execution_count": 18,
      "metadata": {
        "colab": {
          "base_uri": "https://localhost:8080/"
        },
        "id": "Dhl1LoeMDQlD",
        "outputId": "7002b71a-2066-4504-f52f-42eaec018c7f"
      },
      "outputs": [
        {
          "output_type": "stream",
          "name": "stdout",
          "text": [
            "Requirement already satisfied: google-generativeai in /usr/local/lib/python3.10/dist-packages (0.5.2)\n",
            "Requirement already satisfied: google-ai-generativelanguage==0.6.2 in /usr/local/lib/python3.10/dist-packages (from google-generativeai) (0.6.2)\n",
            "Requirement already satisfied: google-api-core in /usr/local/lib/python3.10/dist-packages (from google-generativeai) (2.11.1)\n",
            "Requirement already satisfied: google-api-python-client in /usr/local/lib/python3.10/dist-packages (from google-generativeai) (2.84.0)\n",
            "Requirement already satisfied: google-auth>=2.15.0 in /usr/local/lib/python3.10/dist-packages (from google-generativeai) (2.27.0)\n",
            "Requirement already satisfied: protobuf in /usr/local/lib/python3.10/dist-packages (from google-generativeai) (3.20.3)\n",
            "Requirement already satisfied: pydantic in /usr/local/lib/python3.10/dist-packages (from google-generativeai) (2.7.1)\n",
            "Requirement already satisfied: tqdm in /usr/local/lib/python3.10/dist-packages (from google-generativeai) (4.66.4)\n",
            "Requirement already satisfied: typing-extensions in /usr/local/lib/python3.10/dist-packages (from google-generativeai) (4.11.0)\n",
            "Requirement already satisfied: proto-plus<2.0.0dev,>=1.22.3 in /usr/local/lib/python3.10/dist-packages (from google-ai-generativelanguage==0.6.2->google-generativeai) (1.23.0)\n",
            "Requirement already satisfied: cachetools<6.0,>=2.0.0 in /usr/local/lib/python3.10/dist-packages (from google-auth>=2.15.0->google-generativeai) (5.3.3)\n",
            "Requirement already satisfied: pyasn1-modules>=0.2.1 in /usr/local/lib/python3.10/dist-packages (from google-auth>=2.15.0->google-generativeai) (0.4.0)\n",
            "Requirement already satisfied: rsa<5,>=3.1.4 in /usr/local/lib/python3.10/dist-packages (from google-auth>=2.15.0->google-generativeai) (4.9)\n",
            "Requirement already satisfied: googleapis-common-protos<2.0.dev0,>=1.56.2 in /usr/local/lib/python3.10/dist-packages (from google-api-core->google-generativeai) (1.63.0)\n",
            "Requirement already satisfied: requests<3.0.0.dev0,>=2.18.0 in /usr/local/lib/python3.10/dist-packages (from google-api-core->google-generativeai) (2.31.0)\n",
            "Requirement already satisfied: httplib2<1dev,>=0.15.0 in /usr/local/lib/python3.10/dist-packages (from google-api-python-client->google-generativeai) (0.22.0)\n",
            "Requirement already satisfied: google-auth-httplib2>=0.1.0 in /usr/local/lib/python3.10/dist-packages (from google-api-python-client->google-generativeai) (0.1.1)\n",
            "Requirement already satisfied: uritemplate<5,>=3.0.1 in /usr/local/lib/python3.10/dist-packages (from google-api-python-client->google-generativeai) (4.1.1)\n",
            "Requirement already satisfied: annotated-types>=0.4.0 in /usr/local/lib/python3.10/dist-packages (from pydantic->google-generativeai) (0.6.0)\n",
            "Requirement already satisfied: pydantic-core==2.18.2 in /usr/local/lib/python3.10/dist-packages (from pydantic->google-generativeai) (2.18.2)\n",
            "Requirement already satisfied: grpcio<2.0dev,>=1.33.2 in /usr/local/lib/python3.10/dist-packages (from google-api-core->google-generativeai) (1.63.0)\n",
            "Requirement already satisfied: grpcio-status<2.0.dev0,>=1.33.2 in /usr/local/lib/python3.10/dist-packages (from google-api-core->google-generativeai) (1.48.2)\n",
            "Requirement already satisfied: pyparsing!=3.0.0,!=3.0.1,!=3.0.2,!=3.0.3,<4,>=2.4.2 in /usr/local/lib/python3.10/dist-packages (from httplib2<1dev,>=0.15.0->google-api-python-client->google-generativeai) (3.1.2)\n",
            "Requirement already satisfied: pyasn1<0.7.0,>=0.4.6 in /usr/local/lib/python3.10/dist-packages (from pyasn1-modules>=0.2.1->google-auth>=2.15.0->google-generativeai) (0.6.0)\n",
            "Requirement already satisfied: charset-normalizer<4,>=2 in /usr/local/lib/python3.10/dist-packages (from requests<3.0.0.dev0,>=2.18.0->google-api-core->google-generativeai) (3.3.2)\n",
            "Requirement already satisfied: idna<4,>=2.5 in /usr/local/lib/python3.10/dist-packages (from requests<3.0.0.dev0,>=2.18.0->google-api-core->google-generativeai) (3.7)\n",
            "Requirement already satisfied: urllib3<3,>=1.21.1 in /usr/local/lib/python3.10/dist-packages (from requests<3.0.0.dev0,>=2.18.0->google-api-core->google-generativeai) (2.0.7)\n",
            "Requirement already satisfied: certifi>=2017.4.17 in /usr/local/lib/python3.10/dist-packages (from requests<3.0.0.dev0,>=2.18.0->google-api-core->google-generativeai) (2024.2.2)\n"
          ]
        }
      ],
      "source": [
        "pip install google-generativeai"
      ]
    },
    {
      "cell_type": "markdown",
      "source": [
        "Instalar bibliotec para leitura de documento docx"
      ],
      "metadata": {
        "id": "ZZ7YDoPLfFjr"
      }
    },
    {
      "cell_type": "code",
      "source": [
        "pip install python-docx"
      ],
      "metadata": {
        "colab": {
          "base_uri": "https://localhost:8080/"
        },
        "id": "OXCZf4A5cyQK",
        "outputId": "12a7728d-c52f-4e7f-8d8b-de8460fd7ac7"
      },
      "execution_count": 19,
      "outputs": [
        {
          "output_type": "stream",
          "name": "stdout",
          "text": [
            "Collecting python-docx\n",
            "  Downloading python_docx-1.1.2-py3-none-any.whl (244 kB)\n",
            "\u001b[2K     \u001b[90m━━━━━━━━━━━━━━━━━━━━━━━━━━━━━━━━━━━━━━━━\u001b[0m \u001b[32m244.3/244.3 kB\u001b[0m \u001b[31m2.5 MB/s\u001b[0m eta \u001b[36m0:00:00\u001b[0m\n",
            "\u001b[?25hRequirement already satisfied: lxml>=3.1.0 in /usr/local/lib/python3.10/dist-packages (from python-docx) (4.9.4)\n",
            "Requirement already satisfied: typing-extensions>=4.9.0 in /usr/local/lib/python3.10/dist-packages (from python-docx) (4.11.0)\n",
            "Installing collected packages: python-docx\n",
            "Successfully installed python-docx-1.1.2\n"
          ]
        }
      ]
    },
    {
      "cell_type": "markdown",
      "source": [
        "Código de chat bot com respostas baseadas em documentos docx no repositório"
      ],
      "metadata": {
        "id": "cZkaAns1fQX-"
      }
    },
    {
      "cell_type": "code",
      "source": [
        "from pathlib import Path\n",
        "import hashlib\n",
        "from docx import Document\n",
        "from google.colab import userdata\n",
        "import google.generativeai as genai\n",
        "\n",
        "GOOGLE_API_KEY=userdata.get('GOOGLE_API_KEY')\n",
        "\n",
        "genai.configure(api_key=GOOGLE_API_KEY)\n",
        "\n",
        "# Set up the model\n",
        "generation_config = {\n",
        "  \"temperature\": 1,\n",
        "  \"top_p\": 0.95,\n",
        "  \"top_k\": 0,\n",
        "  \"max_output_tokens\": 8192,\n",
        "}\n",
        "\n",
        "safety_settings = [\n",
        "  {\n",
        "    \"category\": \"HARM_CATEGORY_HARASSMENT\",\n",
        "    \"threshold\": \"BLOCK_MEDIUM_AND_ABOVE\"\n",
        "  },\n",
        "  {\n",
        "    \"category\": \"HARM_CATEGORY_HATE_SPEECH\",\n",
        "    \"threshold\": \"BLOCK_MEDIUM_AND_ABOVE\"\n",
        "  },\n",
        "  {\n",
        "    \"category\": \"HARM_CATEGORY_SEXUALLY_EXPLICIT\",\n",
        "    \"threshold\": \"BLOCK_MEDIUM_AND_ABOVE\"\n",
        "  },\n",
        "  {\n",
        "    \"category\": \"HARM_CATEGORY_DANGEROUS_CONTENT\",\n",
        "    \"threshold\": \"BLOCK_MEDIUM_AND_ABOVE\"\n",
        "  },\n",
        "]\n",
        "\n",
        "model = genai.GenerativeModel(model_name=\"gemini-1.5-pro-latest\",\n",
        "                              generation_config=generation_config,\n",
        "                              safety_settings=safety_settings)\n",
        "\n",
        "def extract_docx_pages(pathname: str) -> list[str]:\n",
        "  parts = [f\"--- START OF DOC ${pathname} ---\"]\n",
        "      # Add logic to read the DOCX and return a list of pages here.\n",
        "  doc = Document(pathname)\n",
        "  pages = []\n",
        "  current_page = \"\"\n",
        "\n",
        "  for paragraph in doc.paragraphs:\n",
        "      if 'page break' in paragraph.text.lower():\n",
        "          pages.append(current_page.strip())\n",
        "          current_page = \"\"\n",
        "      else:\n",
        "          current_page += paragraph.text + \"\\n\"\n",
        "\n",
        "  if current_page:\n",
        "      pages.append(current_page.strip())\n",
        "\n",
        "  for index, page in enumerate(pages):\n",
        "      parts.append(f\"--- PAGE {index} ---\")\n",
        "      parts.append(page)\n",
        "  return parts\n",
        "\n",
        "chat = model.start_chat(history=[])\n",
        "\n",
        "prompt = input('Você gostaria de saber sobre qual receita? ')\n",
        "\n",
        "askWithExample = \"\\n\\npergunta: Preciso de uma receita de pudim de leite condensado.\\n\\nresposta: No documento cujo nome do arquivo é Receitas Diversas.docx, você pode encontrar uma receita de pudim de leite condensado. O título da receita é Pudim de leite condensado simples, se encontra na página 3, e precisa de apenas 5 ingredientes.\\n\\n---\\npergunta: receita de pudim.\\n\\nresposta: Desculpe não encontrei um receita cujo nome seja pudim, porém tenho uma de pudim de leite condensado, gostaria desta receita?\\npergunta: sim\\nresposta: No documento cujo nome do arquivo é Receitas Diversas.docx, você pode encontrar uma receita de pudim de leite condensado. O título da receita é Pudim de leite condensado simples, se encontra na página 3, e precisa de apenas 5 ingredientes.\\n\\n\\n---\\n\\npergunta: Gostaria de uma receita de pamonha doce. pode me ajudar?\\n\\nresposta: No documento cujo nome do arquivo é Recitas Diversas.docx, você pode encontrar uma receita de pamonha doce. O título da receita é Pamonha doce, se encontra na página 4, e precisa de apenas 5 ingredientes. \\n\\n---\\npergunta: Gostaria de uma receita de bolo de cenoura.\\n\\nresposta: No documento cujo nome do arquivo é Recitas Diversas.docx, você pode encontrar uma receita de bolo de cenoura. O título da receita é Bolo de Cenoura, se encontra na primeira página, e precisa de 9 ingredientes. \\n\\n---\\n\\npergunta: {} \\n\\nresposta:\".format(prompt)\n",
        "\n",
        "prompt_parts = [\n",
        "  *extract_docx_pages(\"Receitas Diversas.docx\"),\n",
        "  *extract_docx_pages(\"Receitas Incriveis.docx\"),\n",
        "  askWithExample,\n",
        "]\n",
        "\n",
        "count = 0\n",
        "\n",
        "while prompt != \"fim\":\n",
        "  if count == 0:\n",
        "    response = chat.send_message(prompt_parts)\n",
        "    count += 1\n",
        "  else:\n",
        "    response = chat.send_message(prompt)\n",
        "\n",
        "  print(response.text, '\\n')\n",
        "  prompt = input('')\n"
      ],
      "metadata": {
        "colab": {
          "base_uri": "https://localhost:8080/",
          "height": 124
        },
        "id": "Lm6iFoRuDjam",
        "outputId": "2a04c74b-9bdb-41f5-b0e9-777d6592eb8a"
      },
      "execution_count": 28,
      "outputs": [
        {
          "name": "stdout",
          "output_type": "stream",
          "text": [
            "Você gostaria de saber sobre qual receita? pamonha doce\n",
            "No documento cujo nome do arquivo é Recitas Diversas.docx, você pode encontrar uma receita de pamonha doce. O título da receita é Pamonha doce, se encontra na página 4, e precisa de apenas 5 ingredientes. \n",
            " \n",
            "\n",
            "fim\n"
          ]
        }
      ]
    },
    {
      "cell_type": "code",
      "source": [],
      "metadata": {
        "id": "53Pgv1zMFOhA"
      },
      "execution_count": null,
      "outputs": []
    }
  ]
}